{
 "cells": [
  {
   "cell_type": "code",
   "execution_count": null,
   "metadata": {},
   "outputs": [],
   "source": [
    "def main():\n",
    "    processes = int(input(\"number of processes : \"))\n",
    "    resources = int(input(\"number of resources : \"))\n",
    "    max_resources = [int(i) for i in input(\"maximum resources : \").split()]\n",
    "\n",
    "    print(\"\\n-- allocated resources for each process --\")\n",
    "    currently_allocated = [[int(i) for i in input(f\"process {j + 1} : \").split()] for j in range(processes)]\n",
    "\n",
    "    print(\"\\n-- maximum resources for each process --\")\n",
    "    max_need = [[int(i) for i in input(f\"process {j + 1} : \").split()] for j in range(processes)]\n",
    "\n",
    "    allocated = [0] * resources\n",
    "    for i in range(processes):\n",
    "        for j in range(resources):\n",
    "            allocated[j] += currently_allocated[i][j]\n",
    "    print(f\"\\ntotal allocated resources : {allocated}\")\n",
    "\n",
    "    available = [max_resources[i] - allocated[i] for i in range(resources)]\n",
    "    print(f\"total available resources : {available}\\n\")\n",
    "\n",
    "    running = [True] * processes\n",
    "    count = processes\n",
    "    while count != 0:\n",
    "        safe = False\n",
    "        for i in range(processes):\n",
    "            if running[i]:\n",
    "                executing = True\n",
    "                for j in range(resources):\n",
    "                    if max_need[i][j] - currently_allocated[i][j] > available[j]:\n",
    "                        executing = False\n",
    "                        break\n",
    "                if executing:\n",
    "                    print(f\"process {i + 1} is executing\")\n",
    "                    running[i] = False\n",
    "                    count -= 1\n",
    "                    safe = True\n",
    "                    for j in range(resources):\n",
    "                        available[j] += currently_allocated[i][j]\n",
    "                    break\n",
    "        if not safe:\n",
    "            print(\"the processes are in an unsafe state.\")\n",
    "            break\n",
    "\n",
    "        print(f\"the process is in a safe state.\\navailable resources : {available}\\n\")\n",
    "\n",
    "\n",
    "if __name__ == '__main__':\n",
    "    main()\n",
    "\n"
   ]
  }
 ],
 "metadata": {
  "kernelspec": {
   "display_name": "Python 3",
   "language": "python",
   "name": "python3"
  },
  "language_info": {
   "codemirror_mode": {
    "name": "ipython",
    "version": 3
   },
   "file_extension": ".py",
   "mimetype": "text/x-python",
   "name": "python",
   "nbconvert_exporter": "python",
   "pygments_lexer": "ipython3",
   "version": "3.7.4"
  }
 },
 "nbformat": 4,
 "nbformat_minor": 2
}
