{
 "cells": [
  {
   "cell_type": "code",
   "execution_count": null,
   "metadata": {},
   "outputs": [],
   "source": [
    "from threading import Thread, Condition\n",
    "import time\n",
    "import random\n",
    "\n",
    "queue = []\n",
    "MAX_NUM = 10\n",
    "condition = Condition()\n",
    "\n",
    "class ProducerThread(Thread):\n",
    "    def run(self):\n",
    "        nums = range(5)\n",
    "        global queue\n",
    "        while True:\n",
    "            condition.acquire()\n",
    "            if len(queue) == MAX_NUM:\n",
    "                print(\"Queue full, producer is waiting\")\n",
    "                condition.wait()\n",
    "                print(\"Space in queue, Consumer notified the producer\")\n",
    "            num = random.choice(nums)\n",
    "            queue.append(num)\n",
    "            print(\"Produced\", num)\n",
    "            condition.notify()\n",
    "            condition.release()\n",
    "            time.sleep(random.random())\n",
    "\n",
    "\n",
    "class ConsumerThread(Thread):\n",
    "    def run(self):\n",
    "        global queue\n",
    "        while True:\n",
    "            condition.acquire()\n",
    "            if not queue:\n",
    "                print(\"Nothing in queue, consumer is waiting\")\n",
    "                condition.wait()\n",
    "                print(\"Producer added something to queue and notified the consumer\")\n",
    "            num = queue.pop(0)\n",
    "            print(\"Consumed\", num)\n",
    "            condition.notify()\n",
    "            condition.release()\n",
    "            time.sleep(random.random())\n",
    "\n",
    "\n",
    "ProducerThread().start()\n",
    "ConsumerThread().start()\n",
    "\n"
   ]
  }
 ],
 "metadata": {
  "kernelspec": {
   "display_name": "Python 3",
   "language": "python",
   "name": "python3"
  },
  "language_info": {
   "codemirror_mode": {
    "name": "ipython",
    "version": 3
   },
   "file_extension": ".py",
   "mimetype": "text/x-python",
   "name": "python",
   "nbconvert_exporter": "python",
   "pygments_lexer": "ipython3",
   "version": "3.7.4"
  }
 },
 "nbformat": 4,
 "nbformat_minor": 2
}
